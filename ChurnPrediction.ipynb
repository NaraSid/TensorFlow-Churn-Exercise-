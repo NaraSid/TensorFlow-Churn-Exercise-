{
 "cells": [
  {
   "cell_type": "code",
   "execution_count": 7,
   "metadata": {
    "collapsed": true
   },
   "outputs": [],
   "source": [
    "# data import\n",
    "import pandas as pd\n",
    "df = pd.read_csv('Churn.csv')\n",
    "X= pd.get_dummies(df.drop(['Churn','Customer ID'],axis=1))\n",
    "Y=df['Churn'].apply(lambda x: 1 if x=='Yes' else 0) # change nominal labels to numerical"
   ]
  },
  {
   "cell_type": "code",
   "execution_count": 8,
   "outputs": [],
   "source": [
    "# split dataset\n",
    "from sklearn.model_selection import train_test_split\n",
    "X_train, X_test ,Y_train ,Y_test = train_test_split(X,Y,test_size=.2)\n"
   ],
   "metadata": {
    "collapsed": false
   }
  },
  {
   "cell_type": "code",
   "execution_count": 9,
   "outputs": [
    {
     "data": {
      "text/plain": "      Senior Citizen  tenure  Monthly Charges  Gender_Female  Gender_Male  \\\n6294               0      21            19.60              0            1   \n3336               0      12            25.00              0            1   \n3242               0       1            20.10              0            1   \n5476               0      54            55.00              0            1   \n704                0       2            20.55              1            0   \n\n      Partner_No  Partner_Yes  Dependents_No  Dependents_Yes  \\\n6294           1            0              0               1   \n3336           1            0              1               0   \n3242           1            0              1               0   \n5476           1            0              0               1   \n704            1            0              1               0   \n\n      Phone Service_No  ...  Total Charges_995.35  Total Charges_996.45  \\\n6294                 0  ...                     0                     0   \n3336                 0  ...                     0                     0   \n3242                 0  ...                     0                     0   \n5476                 0  ...                     0                     0   \n704                  0  ...                     0                     0   \n\n      Total Charges_996.85  Total Charges_996.95  Total Charges_997.65  \\\n6294                     0                     0                     0   \n3336                     0                     0                     0   \n3242                     0                     0                     0   \n5476                     0                     0                     0   \n704                      0                     0                     0   \n\n      Total Charges_997.75  Total Charges_998.1  Total Charges_999.45  \\\n6294                     0                    0                     0   \n3336                     0                    0                     0   \n3242                     0                    0                     0   \n5476                     0                    0                     0   \n704                      0                    0                     0   \n\n      Total Charges_999.8  Total Charges_999.9  \n6294                    0                    0  \n3336                    0                    0  \n3242                    0                    0  \n5476                    0                    0  \n704                     0                    0  \n\n[5 rows x 6575 columns]",
      "text/html": "<div>\n<style scoped>\n    .dataframe tbody tr th:only-of-type {\n        vertical-align: middle;\n    }\n\n    .dataframe tbody tr th {\n        vertical-align: top;\n    }\n\n    .dataframe thead th {\n        text-align: right;\n    }\n</style>\n<table border=\"1\" class=\"dataframe\">\n  <thead>\n    <tr style=\"text-align: right;\">\n      <th></th>\n      <th>Senior Citizen</th>\n      <th>tenure</th>\n      <th>Monthly Charges</th>\n      <th>Gender_Female</th>\n      <th>Gender_Male</th>\n      <th>Partner_No</th>\n      <th>Partner_Yes</th>\n      <th>Dependents_No</th>\n      <th>Dependents_Yes</th>\n      <th>Phone Service_No</th>\n      <th>...</th>\n      <th>Total Charges_995.35</th>\n      <th>Total Charges_996.45</th>\n      <th>Total Charges_996.85</th>\n      <th>Total Charges_996.95</th>\n      <th>Total Charges_997.65</th>\n      <th>Total Charges_997.75</th>\n      <th>Total Charges_998.1</th>\n      <th>Total Charges_999.45</th>\n      <th>Total Charges_999.8</th>\n      <th>Total Charges_999.9</th>\n    </tr>\n  </thead>\n  <tbody>\n    <tr>\n      <th>6294</th>\n      <td>0</td>\n      <td>21</td>\n      <td>19.60</td>\n      <td>0</td>\n      <td>1</td>\n      <td>1</td>\n      <td>0</td>\n      <td>0</td>\n      <td>1</td>\n      <td>0</td>\n      <td>...</td>\n      <td>0</td>\n      <td>0</td>\n      <td>0</td>\n      <td>0</td>\n      <td>0</td>\n      <td>0</td>\n      <td>0</td>\n      <td>0</td>\n      <td>0</td>\n      <td>0</td>\n    </tr>\n    <tr>\n      <th>3336</th>\n      <td>0</td>\n      <td>12</td>\n      <td>25.00</td>\n      <td>0</td>\n      <td>1</td>\n      <td>1</td>\n      <td>0</td>\n      <td>1</td>\n      <td>0</td>\n      <td>0</td>\n      <td>...</td>\n      <td>0</td>\n      <td>0</td>\n      <td>0</td>\n      <td>0</td>\n      <td>0</td>\n      <td>0</td>\n      <td>0</td>\n      <td>0</td>\n      <td>0</td>\n      <td>0</td>\n    </tr>\n    <tr>\n      <th>3242</th>\n      <td>0</td>\n      <td>1</td>\n      <td>20.10</td>\n      <td>0</td>\n      <td>1</td>\n      <td>1</td>\n      <td>0</td>\n      <td>1</td>\n      <td>0</td>\n      <td>0</td>\n      <td>...</td>\n      <td>0</td>\n      <td>0</td>\n      <td>0</td>\n      <td>0</td>\n      <td>0</td>\n      <td>0</td>\n      <td>0</td>\n      <td>0</td>\n      <td>0</td>\n      <td>0</td>\n    </tr>\n    <tr>\n      <th>5476</th>\n      <td>0</td>\n      <td>54</td>\n      <td>55.00</td>\n      <td>0</td>\n      <td>1</td>\n      <td>1</td>\n      <td>0</td>\n      <td>0</td>\n      <td>1</td>\n      <td>0</td>\n      <td>...</td>\n      <td>0</td>\n      <td>0</td>\n      <td>0</td>\n      <td>0</td>\n      <td>0</td>\n      <td>0</td>\n      <td>0</td>\n      <td>0</td>\n      <td>0</td>\n      <td>0</td>\n    </tr>\n    <tr>\n      <th>704</th>\n      <td>0</td>\n      <td>2</td>\n      <td>20.55</td>\n      <td>1</td>\n      <td>0</td>\n      <td>1</td>\n      <td>0</td>\n      <td>1</td>\n      <td>0</td>\n      <td>0</td>\n      <td>...</td>\n      <td>0</td>\n      <td>0</td>\n      <td>0</td>\n      <td>0</td>\n      <td>0</td>\n      <td>0</td>\n      <td>0</td>\n      <td>0</td>\n      <td>0</td>\n      <td>0</td>\n    </tr>\n  </tbody>\n</table>\n<p>5 rows × 6575 columns</p>\n</div>"
     },
     "execution_count": 9,
     "metadata": {},
     "output_type": "execute_result"
    }
   ],
   "source": [
    "#check X\n",
    "X_train.head()"
   ],
   "metadata": {
    "collapsed": false
   }
  },
  {
   "cell_type": "code",
   "execution_count": 10,
   "outputs": [
    {
     "data": {
      "text/plain": "6294    0\n3336    0\n3242    1\n5476    1\n704     0\nName: Churn, dtype: int64"
     },
     "execution_count": 10,
     "metadata": {},
     "output_type": "execute_result"
    }
   ],
   "source": [
    "#check Y\n",
    "Y_train.head()"
   ],
   "metadata": {
    "collapsed": false
   }
  },
  {
   "cell_type": "code",
   "execution_count": 12,
   "outputs": [
    {
     "name": "stdout",
     "output_type": "stream",
     "text": [
      "2.10.0\n"
     ]
    }
   ],
   "source": [
    "import tensorflow as tf\n",
    "print(tf.__version__)"
   ],
   "metadata": {
    "collapsed": false
   }
  },
  {
   "cell_type": "code",
   "execution_count": 13,
   "outputs": [],
   "source": [
    "#model\n",
    "from keras.models import Sequential,load_model\n",
    "#layers\n",
    "from keras.layers import Dense"
   ],
   "metadata": {
    "collapsed": false
   }
  },
  {
   "cell_type": "code",
   "execution_count": 15,
   "outputs": [],
   "source": [
    "#model design\n",
    "model =Sequential() #actiavte model\n",
    "#1st layer\n",
    "model.add(Dense(units=32, activation ='relu',input_dim=len(X_train.columns))) # 32 neurons ,  relu function\n",
    "#2nd layer\n",
    "model.add(Dense(units=64, activation='relu',))\n",
    "#3rd layer binary classification\n",
    "model.add(Dense(units=1, activation='sigmoid'))"
   ],
   "metadata": {
    "collapsed": false
   }
  },
  {
   "cell_type": "code",
   "execution_count": 17,
   "outputs": [],
   "source": [
    "#compilation\n",
    "model.compile(loss='binary_crossentropy', optimizer='sgd', metrics ='accuracy')"
   ],
   "metadata": {
    "collapsed": false
   }
  },
  {
   "cell_type": "code",
   "execution_count": 18,
   "outputs": [
    {
     "name": "stdout",
     "output_type": "stream",
     "text": [
      "Epoch 1/200\n",
      "177/177 [==============================] - 5s 23ms/step - loss: 0.5042 - accuracy: 0.7585\n",
      "Epoch 2/200\n",
      "177/177 [==============================] - 2s 11ms/step - loss: 0.4893 - accuracy: 0.7700\n",
      "Epoch 3/200\n",
      "177/177 [==============================] - 3s 17ms/step - loss: 0.4743 - accuracy: 0.7842\n",
      "Epoch 4/200\n",
      "177/177 [==============================] - 3s 17ms/step - loss: 0.4711 - accuracy: 0.7835\n",
      "Epoch 5/200\n",
      "177/177 [==============================] - 3s 20ms/step - loss: 0.4667 - accuracy: 0.7863\n",
      "Epoch 6/200\n",
      "177/177 [==============================] - 2s 14ms/step - loss: 0.4706 - accuracy: 0.7801\n",
      "Epoch 7/200\n",
      "177/177 [==============================] - 2s 12ms/step - loss: 0.4634 - accuracy: 0.7847\n",
      "Epoch 8/200\n",
      "177/177 [==============================] - 6s 31ms/step - loss: 0.4616 - accuracy: 0.7815\n",
      "Epoch 9/200\n",
      "177/177 [==============================] - 2s 13ms/step - loss: 0.4575 - accuracy: 0.7885\n",
      "Epoch 10/200\n",
      "177/177 [==============================] - 2s 11ms/step - loss: 0.4585 - accuracy: 0.7842\n",
      "Epoch 11/200\n",
      "177/177 [==============================] - 3s 17ms/step - loss: 0.4554 - accuracy: 0.7894\n",
      "Epoch 12/200\n",
      "177/177 [==============================] - 1s 7ms/step - loss: 0.4575 - accuracy: 0.7867\n",
      "Epoch 13/200\n",
      "177/177 [==============================] - 2s 12ms/step - loss: 0.4564 - accuracy: 0.7839\n",
      "Epoch 14/200\n",
      "177/177 [==============================] - 2s 9ms/step - loss: 0.4510 - accuracy: 0.7874\n",
      "Epoch 15/200\n",
      "177/177 [==============================] - 3s 19ms/step - loss: 0.4536 - accuracy: 0.7839\n",
      "Epoch 16/200\n",
      "177/177 [==============================] - 3s 20ms/step - loss: 0.4497 - accuracy: 0.7902\n",
      "Epoch 17/200\n",
      "177/177 [==============================] - 3s 20ms/step - loss: 0.4506 - accuracy: 0.7872\n",
      "Epoch 18/200\n",
      "177/177 [==============================] - 3s 15ms/step - loss: 0.4506 - accuracy: 0.7888\n",
      "Epoch 19/200\n",
      "177/177 [==============================] - 4s 21ms/step - loss: 0.4489 - accuracy: 0.7860\n",
      "Epoch 20/200\n",
      "177/177 [==============================] - 1s 5ms/step - loss: 0.4470 - accuracy: 0.7849\n",
      "Epoch 21/200\n",
      "177/177 [==============================] - 1s 7ms/step - loss: 0.4505 - accuracy: 0.7862\n",
      "Epoch 22/200\n",
      "177/177 [==============================] - 2s 13ms/step - loss: 0.4496 - accuracy: 0.7890\n",
      "Epoch 23/200\n",
      "177/177 [==============================] - 2s 14ms/step - loss: 0.4428 - accuracy: 0.7858\n",
      "Epoch 24/200\n",
      "177/177 [==============================] - 4s 24ms/step - loss: 0.4424 - accuracy: 0.7931\n",
      "Epoch 25/200\n",
      "177/177 [==============================] - 7s 41ms/step - loss: 0.4471 - accuracy: 0.7886\n",
      "Epoch 26/200\n",
      "177/177 [==============================] - 7s 40ms/step - loss: 0.4436 - accuracy: 0.7876\n",
      "Epoch 27/200\n",
      "177/177 [==============================] - 3s 17ms/step - loss: 0.4408 - accuracy: 0.7917\n",
      "Epoch 28/200\n",
      "177/177 [==============================] - 4s 22ms/step - loss: 0.4428 - accuracy: 0.7888\n",
      "Epoch 29/200\n",
      "177/177 [==============================] - 2s 13ms/step - loss: 0.4402 - accuracy: 0.7925\n",
      "Epoch 30/200\n",
      "177/177 [==============================] - 1s 8ms/step - loss: 0.4420 - accuracy: 0.7890\n",
      "Epoch 31/200\n",
      "177/177 [==============================] - 2s 9ms/step - loss: 0.4415 - accuracy: 0.7913\n",
      "Epoch 32/200\n",
      "177/177 [==============================] - 4s 21ms/step - loss: 0.4410 - accuracy: 0.7917\n",
      "Epoch 33/200\n",
      "177/177 [==============================] - 3s 14ms/step - loss: 0.4402 - accuracy: 0.7940\n",
      "Epoch 34/200\n",
      "177/177 [==============================] - 3s 19ms/step - loss: 0.4389 - accuracy: 0.7945\n",
      "Epoch 35/200\n",
      "177/177 [==============================] - 3s 17ms/step - loss: 0.4411 - accuracy: 0.7899\n",
      "Epoch 36/200\n",
      "177/177 [==============================] - 2s 14ms/step - loss: 0.4388 - accuracy: 0.7920\n",
      "Epoch 37/200\n",
      "177/177 [==============================] - 3s 15ms/step - loss: 0.4399 - accuracy: 0.7913\n",
      "Epoch 38/200\n",
      "177/177 [==============================] - 3s 15ms/step - loss: 0.4347 - accuracy: 0.7949\n",
      "Epoch 39/200\n",
      "177/177 [==============================] - 4s 20ms/step - loss: 0.4376 - accuracy: 0.7906\n",
      "Epoch 40/200\n",
      "177/177 [==============================] - 3s 17ms/step - loss: 0.4385 - accuracy: 0.7947\n",
      "Epoch 41/200\n",
      "177/177 [==============================] - 3s 19ms/step - loss: 0.4338 - accuracy: 0.7922\n",
      "Epoch 42/200\n",
      "177/177 [==============================] - 4s 21ms/step - loss: 0.4392 - accuracy: 0.7925\n",
      "Epoch 43/200\n",
      "177/177 [==============================] - 4s 21ms/step - loss: 0.4343 - accuracy: 0.7947\n",
      "Epoch 44/200\n",
      "177/177 [==============================] - 6s 36ms/step - loss: 0.4365 - accuracy: 0.7947\n",
      "Epoch 45/200\n",
      "177/177 [==============================] - 5s 26ms/step - loss: 0.4367 - accuracy: 0.7927\n",
      "Epoch 46/200\n",
      "177/177 [==============================] - 5s 28ms/step - loss: 0.4342 - accuracy: 0.7973\n",
      "Epoch 47/200\n",
      "177/177 [==============================] - 3s 14ms/step - loss: 0.4338 - accuracy: 0.7938\n",
      "Epoch 48/200\n",
      "177/177 [==============================] - 3s 15ms/step - loss: 0.4315 - accuracy: 0.7949\n",
      "Epoch 49/200\n",
      "177/177 [==============================] - 5s 28ms/step - loss: 0.4385 - accuracy: 0.7954\n",
      "Epoch 50/200\n",
      "177/177 [==============================] - 4s 24ms/step - loss: 0.4302 - accuracy: 0.7965\n",
      "Epoch 51/200\n",
      "177/177 [==============================] - 3s 18ms/step - loss: 0.4337 - accuracy: 0.7968\n",
      "Epoch 52/200\n",
      "177/177 [==============================] - 5s 29ms/step - loss: 0.4379 - accuracy: 0.7895\n",
      "Epoch 53/200\n",
      "177/177 [==============================] - 2s 9ms/step - loss: 0.4291 - accuracy: 0.7973\n",
      "Epoch 54/200\n",
      "177/177 [==============================] - 3s 19ms/step - loss: 0.4304 - accuracy: 0.7952\n",
      "Epoch 55/200\n",
      "177/177 [==============================] - 3s 16ms/step - loss: 0.4332 - accuracy: 0.7933\n",
      "Epoch 56/200\n",
      "177/177 [==============================] - 5s 28ms/step - loss: 0.4301 - accuracy: 0.7975\n",
      "Epoch 57/200\n",
      "177/177 [==============================] - 3s 16ms/step - loss: 0.4327 - accuracy: 0.7936\n",
      "Epoch 58/200\n",
      "177/177 [==============================] - 4s 22ms/step - loss: 0.4308 - accuracy: 0.7988\n",
      "Epoch 59/200\n",
      "177/177 [==============================] - 4s 21ms/step - loss: 0.4302 - accuracy: 0.7963\n",
      "Epoch 60/200\n",
      "177/177 [==============================] - 4s 21ms/step - loss: 0.4328 - accuracy: 0.7957\n",
      "Epoch 61/200\n",
      "177/177 [==============================] - 2s 13ms/step - loss: 0.4303 - accuracy: 0.7943\n",
      "Epoch 62/200\n",
      "177/177 [==============================] - 3s 17ms/step - loss: 0.4297 - accuracy: 0.7945\n",
      "Epoch 63/200\n",
      "177/177 [==============================] - 4s 21ms/step - loss: 0.4294 - accuracy: 0.7973\n",
      "Epoch 64/200\n",
      "177/177 [==============================] - 3s 18ms/step - loss: 0.4346 - accuracy: 0.7901\n",
      "Epoch 65/200\n",
      "177/177 [==============================] - 2s 11ms/step - loss: 0.4298 - accuracy: 0.8012\n",
      "Epoch 66/200\n",
      "177/177 [==============================] - 3s 15ms/step - loss: 0.4292 - accuracy: 0.7986\n",
      "Epoch 67/200\n",
      "177/177 [==============================] - 4s 20ms/step - loss: 0.4290 - accuracy: 0.7980\n",
      "Epoch 68/200\n",
      "177/177 [==============================] - 4s 20ms/step - loss: 0.4296 - accuracy: 0.7954\n",
      "Epoch 69/200\n",
      "177/177 [==============================] - 4s 21ms/step - loss: 0.4333 - accuracy: 0.7929\n",
      "Epoch 70/200\n",
      "177/177 [==============================] - 2s 13ms/step - loss: 0.4284 - accuracy: 0.7957\n",
      "Epoch 71/200\n",
      "177/177 [==============================] - 3s 16ms/step - loss: 0.4256 - accuracy: 0.7966\n",
      "Epoch 72/200\n",
      "177/177 [==============================] - 2s 12ms/step - loss: 0.4316 - accuracy: 0.7952\n",
      "Epoch 73/200\n",
      "177/177 [==============================] - 2s 12ms/step - loss: 0.4243 - accuracy: 0.7989\n",
      "Epoch 74/200\n",
      "177/177 [==============================] - 2s 13ms/step - loss: 0.4269 - accuracy: 0.7998\n",
      "Epoch 75/200\n",
      "177/177 [==============================] - 7s 37ms/step - loss: 0.4308 - accuracy: 0.7950\n",
      "Epoch 76/200\n",
      "177/177 [==============================] - 7s 41ms/step - loss: 0.4277 - accuracy: 0.7959\n",
      "Epoch 77/200\n",
      "177/177 [==============================] - 8s 43ms/step - loss: 0.4283 - accuracy: 0.7938\n",
      "Epoch 78/200\n",
      "177/177 [==============================] - 4s 23ms/step - loss: 0.4247 - accuracy: 0.8002\n",
      "Epoch 79/200\n",
      "177/177 [==============================] - 3s 14ms/step - loss: 0.4285 - accuracy: 0.7927\n",
      "Epoch 80/200\n",
      "177/177 [==============================] - 3s 18ms/step - loss: 0.4354 - accuracy: 0.7927\n",
      "Epoch 81/200\n",
      "177/177 [==============================] - 4s 22ms/step - loss: 0.4243 - accuracy: 0.7980\n",
      "Epoch 82/200\n",
      "177/177 [==============================] - 3s 19ms/step - loss: 0.4243 - accuracy: 0.8016\n",
      "Epoch 83/200\n",
      "177/177 [==============================] - 2s 13ms/step - loss: 0.4269 - accuracy: 0.7989\n",
      "Epoch 84/200\n",
      "177/177 [==============================] - 2s 13ms/step - loss: 0.4275 - accuracy: 0.7995\n",
      "Epoch 85/200\n",
      "177/177 [==============================] - 1s 8ms/step - loss: 0.4273 - accuracy: 0.8025\n",
      "Epoch 86/200\n",
      "177/177 [==============================] - 1s 7ms/step - loss: 0.4240 - accuracy: 0.7998\n",
      "Epoch 87/200\n",
      "177/177 [==============================] - 2s 10ms/step - loss: 0.4254 - accuracy: 0.7970\n",
      "Epoch 88/200\n",
      "177/177 [==============================] - 2s 13ms/step - loss: 0.4246 - accuracy: 0.8007\n",
      "Epoch 89/200\n",
      "177/177 [==============================] - 3s 20ms/step - loss: 0.4216 - accuracy: 0.8023\n",
      "Epoch 90/200\n",
      "177/177 [==============================] - 2s 10ms/step - loss: 0.4262 - accuracy: 0.7966\n",
      "Epoch 91/200\n",
      "177/177 [==============================] - 3s 19ms/step - loss: 0.4228 - accuracy: 0.8023\n",
      "Epoch 92/200\n",
      "177/177 [==============================] - 3s 18ms/step - loss: 0.4216 - accuracy: 0.7973\n",
      "Epoch 93/200\n",
      "177/177 [==============================] - 2s 11ms/step - loss: 0.4249 - accuracy: 0.7993\n",
      "Epoch 94/200\n",
      "177/177 [==============================] - 2s 13ms/step - loss: 0.4244 - accuracy: 0.8007\n",
      "Epoch 95/200\n",
      "177/177 [==============================] - 4s 20ms/step - loss: 0.4248 - accuracy: 0.7979\n",
      "Epoch 96/200\n",
      "177/177 [==============================] - 4s 22ms/step - loss: 0.4218 - accuracy: 0.8000\n",
      "Epoch 97/200\n",
      "177/177 [==============================] - 3s 15ms/step - loss: 0.4247 - accuracy: 0.8039\n",
      "Epoch 98/200\n",
      "177/177 [==============================] - 4s 25ms/step - loss: 0.4220 - accuracy: 0.8002\n",
      "Epoch 99/200\n",
      "177/177 [==============================] - 4s 20ms/step - loss: 0.4211 - accuracy: 0.8041\n",
      "Epoch 100/200\n",
      "177/177 [==============================] - 4s 20ms/step - loss: 0.4232 - accuracy: 0.8043\n",
      "Epoch 101/200\n",
      "177/177 [==============================] - 3s 19ms/step - loss: 0.4238 - accuracy: 0.8004\n",
      "Epoch 102/200\n",
      "177/177 [==============================] - 2s 10ms/step - loss: 0.4177 - accuracy: 0.8062\n",
      "Epoch 103/200\n",
      "177/177 [==============================] - 3s 14ms/step - loss: 0.4241 - accuracy: 0.8041\n",
      "Epoch 104/200\n",
      "177/177 [==============================] - 2s 14ms/step - loss: 0.4251 - accuracy: 0.7965\n",
      "Epoch 105/200\n",
      "177/177 [==============================] - 4s 21ms/step - loss: 0.4250 - accuracy: 0.7979\n",
      "Epoch 106/200\n",
      "177/177 [==============================] - 2s 11ms/step - loss: 0.4204 - accuracy: 0.8034\n",
      "Epoch 107/200\n",
      "177/177 [==============================] - 2s 13ms/step - loss: 0.4181 - accuracy: 0.8066\n",
      "Epoch 108/200\n",
      "177/177 [==============================] - 3s 15ms/step - loss: 0.4212 - accuracy: 0.8025\n",
      "Epoch 109/200\n",
      "177/177 [==============================] - 2s 11ms/step - loss: 0.4219 - accuracy: 0.8000\n",
      "Epoch 110/200\n",
      "177/177 [==============================] - 4s 20ms/step - loss: 0.4195 - accuracy: 0.8046\n",
      "Epoch 111/200\n",
      "177/177 [==============================] - 3s 18ms/step - loss: 0.4202 - accuracy: 0.8039\n",
      "Epoch 112/200\n",
      "177/177 [==============================] - 2s 10ms/step - loss: 0.4214 - accuracy: 0.7966\n",
      "Epoch 113/200\n",
      "177/177 [==============================] - 2s 14ms/step - loss: 0.4189 - accuracy: 0.8030\n",
      "Epoch 114/200\n",
      "177/177 [==============================] - 3s 18ms/step - loss: 0.4204 - accuracy: 0.7989\n",
      "Epoch 115/200\n",
      "177/177 [==============================] - 2s 9ms/step - loss: 0.4227 - accuracy: 0.8021\n",
      "Epoch 116/200\n",
      "177/177 [==============================] - 3s 16ms/step - loss: 0.4179 - accuracy: 0.8030\n",
      "Epoch 117/200\n",
      "177/177 [==============================] - 4s 22ms/step - loss: 0.4171 - accuracy: 0.8016\n",
      "Epoch 118/200\n",
      "177/177 [==============================] - 2s 12ms/step - loss: 0.4205 - accuracy: 0.8020\n",
      "Epoch 119/200\n",
      "177/177 [==============================] - 3s 15ms/step - loss: 0.4179 - accuracy: 0.8041\n",
      "Epoch 120/200\n",
      "177/177 [==============================] - 4s 20ms/step - loss: 0.4223 - accuracy: 0.8014\n",
      "Epoch 121/200\n",
      "177/177 [==============================] - 3s 16ms/step - loss: 0.4187 - accuracy: 0.8050\n",
      "Epoch 122/200\n",
      "177/177 [==============================] - 3s 18ms/step - loss: 0.4184 - accuracy: 0.8032\n",
      "Epoch 123/200\n",
      "177/177 [==============================] - 3s 14ms/step - loss: 0.4186 - accuracy: 0.7996\n",
      "Epoch 124/200\n",
      "177/177 [==============================] - 3s 18ms/step - loss: 0.4175 - accuracy: 0.8020\n",
      "Epoch 125/200\n",
      "177/177 [==============================] - 4s 22ms/step - loss: 0.4193 - accuracy: 0.8051\n",
      "Epoch 126/200\n",
      "177/177 [==============================] - 3s 19ms/step - loss: 0.4178 - accuracy: 0.8043\n",
      "Epoch 127/200\n",
      "177/177 [==============================] - 3s 19ms/step - loss: 0.4146 - accuracy: 0.8050\n",
      "Epoch 128/200\n",
      "177/177 [==============================] - 4s 22ms/step - loss: 0.4186 - accuracy: 0.8057\n",
      "Epoch 129/200\n",
      "177/177 [==============================] - 3s 15ms/step - loss: 0.4216 - accuracy: 0.7993\n",
      "Epoch 130/200\n",
      "177/177 [==============================] - 4s 25ms/step - loss: 0.4188 - accuracy: 0.8021\n",
      "Epoch 131/200\n",
      "177/177 [==============================] - 3s 18ms/step - loss: 0.4201 - accuracy: 0.8025\n",
      "Epoch 132/200\n",
      "177/177 [==============================] - 3s 19ms/step - loss: 0.4204 - accuracy: 0.7984\n",
      "Epoch 133/200\n",
      "177/177 [==============================] - 2s 11ms/step - loss: 0.4195 - accuracy: 0.8007\n",
      "Epoch 134/200\n",
      "177/177 [==============================] - 3s 14ms/step - loss: 0.4161 - accuracy: 0.8023\n",
      "Epoch 135/200\n",
      "177/177 [==============================] - 2s 10ms/step - loss: 0.4231 - accuracy: 0.8016\n",
      "Epoch 136/200\n",
      "177/177 [==============================] - 1s 7ms/step - loss: 0.4175 - accuracy: 0.8035\n",
      "Epoch 137/200\n",
      "177/177 [==============================] - 2s 10ms/step - loss: 0.4177 - accuracy: 0.8060\n",
      "Epoch 138/200\n",
      "177/177 [==============================] - 3s 14ms/step - loss: 0.4171 - accuracy: 0.8028\n",
      "Epoch 139/200\n",
      "177/177 [==============================] - 4s 22ms/step - loss: 0.4183 - accuracy: 0.8023\n",
      "Epoch 140/200\n",
      "177/177 [==============================] - 2s 12ms/step - loss: 0.4189 - accuracy: 0.8023\n",
      "Epoch 141/200\n",
      "177/177 [==============================] - 4s 20ms/step - loss: 0.4179 - accuracy: 0.8041\n",
      "Epoch 142/200\n",
      "177/177 [==============================] - 2s 14ms/step - loss: 0.4176 - accuracy: 0.8016\n",
      "Epoch 143/200\n",
      "177/177 [==============================] - 2s 13ms/step - loss: 0.4167 - accuracy: 0.8039\n",
      "Epoch 144/200\n",
      "177/177 [==============================] - 2s 11ms/step - loss: 0.4198 - accuracy: 0.8039\n",
      "Epoch 145/200\n",
      "177/177 [==============================] - 3s 19ms/step - loss: 0.4175 - accuracy: 0.8059\n",
      "Epoch 146/200\n",
      "177/177 [==============================] - 3s 16ms/step - loss: 0.4190 - accuracy: 0.8085\n",
      "Epoch 147/200\n",
      "177/177 [==============================] - 3s 18ms/step - loss: 0.4167 - accuracy: 0.8043\n",
      "Epoch 148/200\n",
      "177/177 [==============================] - 4s 22ms/step - loss: 0.4164 - accuracy: 0.8069\n",
      "Epoch 149/200\n",
      "177/177 [==============================] - 3s 14ms/step - loss: 0.4188 - accuracy: 0.8009\n",
      "Epoch 150/200\n",
      "177/177 [==============================] - 3s 14ms/step - loss: 0.4193 - accuracy: 0.8020\n",
      "Epoch 151/200\n",
      "177/177 [==============================] - 3s 16ms/step - loss: 0.4212 - accuracy: 0.8067\n",
      "Epoch 152/200\n",
      "177/177 [==============================] - 4s 21ms/step - loss: 0.4151 - accuracy: 0.8057\n",
      "Epoch 153/200\n",
      "177/177 [==============================] - 2s 13ms/step - loss: 0.4197 - accuracy: 0.8021\n",
      "Epoch 154/200\n",
      "177/177 [==============================] - 2s 11ms/step - loss: 0.4179 - accuracy: 0.8044\n",
      "Epoch 155/200\n",
      "177/177 [==============================] - 1s 6ms/step - loss: 0.4155 - accuracy: 0.8041\n",
      "Epoch 156/200\n",
      "177/177 [==============================] - 1s 5ms/step - loss: 0.4159 - accuracy: 0.8039\n",
      "Epoch 157/200\n",
      "177/177 [==============================] - 3s 16ms/step - loss: 0.4187 - accuracy: 0.8027\n",
      "Epoch 158/200\n",
      "177/177 [==============================] - 3s 15ms/step - loss: 0.4139 - accuracy: 0.8014\n",
      "Epoch 159/200\n",
      "177/177 [==============================] - 4s 23ms/step - loss: 0.4184 - accuracy: 0.7995\n",
      "Epoch 160/200\n",
      "177/177 [==============================] - 1s 7ms/step - loss: 0.4158 - accuracy: 0.8059\n",
      "Epoch 161/200\n",
      "177/177 [==============================] - 2s 9ms/step - loss: 0.4190 - accuracy: 0.8034\n",
      "Epoch 162/200\n",
      "177/177 [==============================] - 1s 7ms/step - loss: 0.4172 - accuracy: 0.8012\n",
      "Epoch 163/200\n",
      "177/177 [==============================] - 3s 14ms/step - loss: 0.4152 - accuracy: 0.8075\n",
      "Epoch 164/200\n",
      "177/177 [==============================] - 2s 9ms/step - loss: 0.4139 - accuracy: 0.8078\n",
      "Epoch 165/200\n",
      "177/177 [==============================] - 3s 18ms/step - loss: 0.4170 - accuracy: 0.8067\n",
      "Epoch 166/200\n",
      "177/177 [==============================] - 4s 22ms/step - loss: 0.4151 - accuracy: 0.8012\n",
      "Epoch 167/200\n",
      "177/177 [==============================] - 3s 18ms/step - loss: 0.4146 - accuracy: 0.8050\n",
      "Epoch 168/200\n",
      "177/177 [==============================] - 2s 13ms/step - loss: 0.4168 - accuracy: 0.8087\n",
      "Epoch 169/200\n",
      "177/177 [==============================] - 2s 9ms/step - loss: 0.4149 - accuracy: 0.8020\n",
      "Epoch 170/200\n",
      "177/177 [==============================] - 3s 17ms/step - loss: 0.4156 - accuracy: 0.8066\n",
      "Epoch 171/200\n",
      "177/177 [==============================] - 2s 12ms/step - loss: 0.4166 - accuracy: 0.8089\n",
      "Epoch 172/200\n",
      "177/177 [==============================] - 1s 5ms/step - loss: 0.4153 - accuracy: 0.8027\n",
      "Epoch 173/200\n",
      "177/177 [==============================] - 1s 7ms/step - loss: 0.4147 - accuracy: 0.8069\n",
      "Epoch 174/200\n",
      "177/177 [==============================] - 3s 15ms/step - loss: 0.4155 - accuracy: 0.8057\n",
      "Epoch 175/200\n",
      "177/177 [==============================] - 2s 10ms/step - loss: 0.4150 - accuracy: 0.8064\n",
      "Epoch 176/200\n",
      "177/177 [==============================] - 1s 4ms/step - loss: 0.4146 - accuracy: 0.8032\n",
      "Epoch 177/200\n",
      "177/177 [==============================] - 1s 4ms/step - loss: 0.4149 - accuracy: 0.8027\n",
      "Epoch 178/200\n",
      "177/177 [==============================] - 1s 4ms/step - loss: 0.4117 - accuracy: 0.8071\n",
      "Epoch 179/200\n",
      "177/177 [==============================] - 1s 4ms/step - loss: 0.4164 - accuracy: 0.8039\n",
      "Epoch 180/200\n",
      "177/177 [==============================] - 1s 4ms/step - loss: 0.4126 - accuracy: 0.8018\n",
      "Epoch 181/200\n",
      "177/177 [==============================] - 1s 3ms/step - loss: 0.4131 - accuracy: 0.8071\n",
      "Epoch 182/200\n",
      "177/177 [==============================] - 1s 4ms/step - loss: 0.4191 - accuracy: 0.7996\n",
      "Epoch 183/200\n",
      "177/177 [==============================] - 1s 3ms/step - loss: 0.4151 - accuracy: 0.8050\n",
      "Epoch 184/200\n",
      "177/177 [==============================] - 3s 18ms/step - loss: 0.4152 - accuracy: 0.8085\n",
      "Epoch 185/200\n",
      "177/177 [==============================] - 2s 13ms/step - loss: 0.4148 - accuracy: 0.8076\n",
      "Epoch 186/200\n",
      "177/177 [==============================] - 2s 13ms/step - loss: 0.4162 - accuracy: 0.8064\n",
      "Epoch 187/200\n",
      "177/177 [==============================] - 1s 7ms/step - loss: 0.4135 - accuracy: 0.8034\n",
      "Epoch 188/200\n",
      "177/177 [==============================] - 2s 8ms/step - loss: 0.4159 - accuracy: 0.8051\n",
      "Epoch 189/200\n",
      "177/177 [==============================] - 2s 10ms/step - loss: 0.4143 - accuracy: 0.8037\n",
      "Epoch 190/200\n",
      "177/177 [==============================] - 1s 7ms/step - loss: 0.4128 - accuracy: 0.8080\n",
      "Epoch 191/200\n",
      "177/177 [==============================] - 2s 13ms/step - loss: 0.4141 - accuracy: 0.8030\n",
      "Epoch 192/200\n",
      "177/177 [==============================] - 2s 11ms/step - loss: 0.4124 - accuracy: 0.8064\n",
      "Epoch 193/200\n",
      "177/177 [==============================] - 3s 18ms/step - loss: 0.4139 - accuracy: 0.8043\n",
      "Epoch 194/200\n",
      "177/177 [==============================] - 2s 10ms/step - loss: 0.4118 - accuracy: 0.8064\n",
      "Epoch 195/200\n",
      "177/177 [==============================] - 4s 23ms/step - loss: 0.4164 - accuracy: 0.8064\n",
      "Epoch 196/200\n",
      "177/177 [==============================] - 3s 17ms/step - loss: 0.4144 - accuracy: 0.8076\n",
      "Epoch 197/200\n",
      "177/177 [==============================] - 3s 14ms/step - loss: 0.4147 - accuracy: 0.8043\n",
      "Epoch 198/200\n",
      "177/177 [==============================] - 2s 10ms/step - loss: 0.4114 - accuracy: 0.8051\n",
      "Epoch 199/200\n",
      "177/177 [==============================] - 3s 18ms/step - loss: 0.4150 - accuracy: 0.8035\n",
      "Epoch 200/200\n",
      "177/177 [==============================] - 2s 12ms/step - loss: 0.4160 - accuracy: 0.8027\n"
     ]
    },
    {
     "data": {
      "text/plain": "<keras.callbacks.History at 0x1799c515d80>"
     },
     "execution_count": 18,
     "metadata": {},
     "output_type": "execute_result"
    }
   ],
   "source": [
    "#fit\n",
    "model.fit(X_train,Y_train, epochs=200 , batch_size=32)"
   ],
   "metadata": {
    "collapsed": false
   }
  },
  {
   "cell_type": "code",
   "execution_count": 25,
   "outputs": [
    {
     "name": "stdout",
     "output_type": "stream",
     "text": [
      "45/45 [==============================] - 1s 12ms/step\n"
     ]
    },
    {
     "data": {
      "text/plain": "[0,\n 0,\n 0,\n 0,\n 0,\n 0,\n 0,\n 0,\n 0,\n 0,\n 0,\n 0,\n 0,\n 0,\n 0,\n 0,\n 0,\n 0,\n 0,\n 1,\n 0,\n 0,\n 0,\n 1,\n 0,\n 0,\n 0,\n 0,\n 1,\n 0,\n 0,\n 1,\n 0,\n 1,\n 0,\n 0,\n 0,\n 0,\n 0,\n 1,\n 0,\n 1,\n 0,\n 0,\n 0,\n 0,\n 1,\n 0,\n 0,\n 0,\n 0,\n 0,\n 0,\n 0,\n 0,\n 0,\n 0,\n 0,\n 0,\n 0,\n 0,\n 1,\n 0,\n 0,\n 0,\n 0,\n 0,\n 0,\n 0,\n 0,\n 1,\n 1,\n 0,\n 0,\n 0,\n 0,\n 0,\n 0,\n 0,\n 0,\n 0,\n 0,\n 0,\n 0,\n 0,\n 1,\n 1,\n 0,\n 1,\n 0,\n 0,\n 1,\n 0,\n 0,\n 0,\n 0,\n 0,\n 0,\n 0,\n 1,\n 0,\n 0,\n 0,\n 1,\n 0,\n 1,\n 1,\n 0,\n 0,\n 1,\n 0,\n 0,\n 1,\n 0,\n 0,\n 0,\n 1,\n 0,\n 1,\n 0,\n 0,\n 0,\n 0,\n 0,\n 1,\n 0,\n 0,\n 0,\n 0,\n 0,\n 0,\n 0,\n 0,\n 0,\n 0,\n 0,\n 0,\n 0,\n 0,\n 1,\n 1,\n 0,\n 0,\n 0,\n 0,\n 1,\n 1,\n 0,\n 0,\n 0,\n 1,\n 1,\n 0,\n 0,\n 0,\n 0,\n 1,\n 0,\n 0,\n 1,\n 0,\n 0,\n 0,\n 0,\n 0,\n 0,\n 0,\n 0,\n 0,\n 0,\n 1,\n 0,\n 0,\n 1,\n 1,\n 1,\n 0,\n 0,\n 0,\n 0,\n 0,\n 0,\n 1,\n 0,\n 0,\n 0,\n 1,\n 1,\n 0,\n 0,\n 0,\n 0,\n 0,\n 0,\n 0,\n 1,\n 0,\n 0,\n 0,\n 0,\n 1,\n 0,\n 1,\n 0,\n 0,\n 0,\n 0,\n 0,\n 0,\n 0,\n 0,\n 0,\n 0,\n 0,\n 1,\n 0,\n 0,\n 1,\n 0,\n 0,\n 1,\n 0,\n 0,\n 1,\n 0,\n 0,\n 0,\n 0,\n 0,\n 0,\n 0,\n 0,\n 0,\n 0,\n 0,\n 1,\n 0,\n 0,\n 0,\n 0,\n 0,\n 0,\n 0,\n 0,\n 0,\n 1,\n 0,\n 0,\n 0,\n 0,\n 0,\n 0,\n 0,\n 0,\n 1,\n 1,\n 0,\n 0,\n 0,\n 0,\n 0,\n 0,\n 0,\n 0,\n 0,\n 0,\n 0,\n 0,\n 1,\n 0,\n 0,\n 1,\n 0,\n 0,\n 1,\n 0,\n 0,\n 0,\n 0,\n 0,\n 0,\n 0,\n 0,\n 0,\n 1,\n 0,\n 0,\n 0,\n 1,\n 0,\n 0,\n 0,\n 0,\n 0,\n 0,\n 0,\n 1,\n 0,\n 0,\n 0,\n 0,\n 0,\n 0,\n 0,\n 0,\n 0,\n 0,\n 1,\n 1,\n 1,\n 0,\n 0,\n 0,\n 0,\n 0,\n 0,\n 0,\n 0,\n 0,\n 0,\n 0,\n 0,\n 0,\n 0,\n 0,\n 0,\n 0,\n 0,\n 1,\n 0,\n 0,\n 0,\n 0,\n 1,\n 0,\n 0,\n 0,\n 0,\n 0,\n 0,\n 0,\n 0,\n 0,\n 0,\n 0,\n 0,\n 0,\n 1,\n 0,\n 0,\n 0,\n 0,\n 0,\n 0,\n 1,\n 0,\n 0,\n 0,\n 0,\n 0,\n 1,\n 0,\n 0,\n 1,\n 0,\n 0,\n 1,\n 0,\n 1,\n 1,\n 1,\n 0,\n 0,\n 0,\n 1,\n 0,\n 0,\n 0,\n 0,\n 0,\n 0,\n 0,\n 0,\n 0,\n 0,\n 0,\n 1,\n 0,\n 0,\n 0,\n 1,\n 0,\n 0,\n 0,\n 0,\n 1,\n 1,\n 1,\n 0,\n 0,\n 0,\n 0,\n 0,\n 0,\n 0,\n 0,\n 0,\n 0,\n 0,\n 0,\n 0,\n 0,\n 0,\n 1,\n 0,\n 0,\n 0,\n 0,\n 0,\n 0,\n 0,\n 0,\n 0,\n 0,\n 0,\n 1,\n 1,\n 0,\n 0,\n 0,\n 1,\n 0,\n 0,\n 0,\n 1,\n 0,\n 0,\n 0,\n 0,\n 0,\n 0,\n 0,\n 0,\n 0,\n 0,\n 0,\n 0,\n 0,\n 0,\n 0,\n 1,\n 0,\n 1,\n 0,\n 0,\n 0,\n 0,\n 0,\n 0,\n 0,\n 0,\n 0,\n 0,\n 0,\n 0,\n 0,\n 0,\n 1,\n 0,\n 0,\n 1,\n 0,\n 0,\n 0,\n 1,\n 0,\n 0,\n 0,\n 1,\n 0,\n 0,\n 0,\n 0,\n 0,\n 1,\n 0,\n 1,\n 0,\n 0,\n 0,\n 0,\n 0,\n 0,\n 0,\n 0,\n 0,\n 1,\n 0,\n 0,\n 0,\n 0,\n 0,\n 0,\n 0,\n 1,\n 0,\n 0,\n 0,\n 0,\n 0,\n 0,\n 0,\n 0,\n 0,\n 0,\n 0,\n 0,\n 0,\n 0,\n 1,\n 0,\n 0,\n 0,\n 0,\n 0,\n 0,\n 0,\n 1,\n 0,\n 0,\n 0,\n 0,\n 0,\n 0,\n 0,\n 0,\n 0,\n 0,\n 0,\n 0,\n 0,\n 0,\n 0,\n 1,\n 0,\n 0,\n 1,\n 1,\n 0,\n 0,\n 0,\n 1,\n 0,\n 1,\n 0,\n 1,\n 0,\n 0,\n 1,\n 0,\n 0,\n 0,\n 0,\n 0,\n 0,\n 0,\n 0,\n 0,\n 0,\n 1,\n 0,\n 0,\n 0,\n 0,\n 0,\n 0,\n 0,\n 1,\n 0,\n 0,\n 1,\n 0,\n 1,\n 0,\n 1,\n 0,\n 1,\n 0,\n 0,\n 0,\n 1,\n 0,\n 0,\n 0,\n 0,\n 1,\n 1,\n 0,\n 0,\n 0,\n 0,\n 0,\n 0,\n 0,\n 0,\n 0,\n 0,\n 0,\n 1,\n 0,\n 0,\n 0,\n 1,\n 0,\n 0,\n 1,\n 0,\n 1,\n 0,\n 0,\n 0,\n 0,\n 1,\n 0,\n 0,\n 1,\n 0,\n 0,\n 0,\n 0,\n 0,\n 0,\n 0,\n 0,\n 0,\n 0,\n 0,\n 0,\n 0,\n 0,\n 0,\n 0,\n 1,\n 0,\n 1,\n 0,\n 0,\n 0,\n 0,\n 0,\n 0,\n 0,\n 0,\n 0,\n 1,\n 0,\n 1,\n 0,\n 0,\n 1,\n 0,\n 1,\n 0,\n 0,\n 0,\n 1,\n 0,\n 0,\n 0,\n 0,\n 0,\n 0,\n 0,\n 0,\n 0,\n 0,\n 0,\n 0,\n 0,\n 0,\n 0,\n 0,\n 0,\n 0,\n 0,\n 1,\n 0,\n 1,\n 1,\n 0,\n 0,\n 0,\n 0,\n 0,\n 0,\n 0,\n 0,\n 0,\n 1,\n 0,\n 0,\n 0,\n 0,\n 0,\n 0,\n 0,\n 1,\n 0,\n 0,\n 0,\n 1,\n 0,\n 0,\n 0,\n 0,\n 1,\n 0,\n 0,\n 1,\n 0,\n 1,\n 0,\n 0,\n 0,\n 0,\n 0,\n 0,\n 0,\n 0,\n 0,\n 0,\n 0,\n 0,\n 0,\n 0,\n 0,\n 1,\n 0,\n 0,\n 1,\n 0,\n 1,\n 0,\n 0,\n 0,\n 1,\n 1,\n 0,\n 0,\n 0,\n 1,\n 0,\n 0,\n 0,\n 1,\n 0,\n 0,\n 0,\n 1,\n 0,\n 0,\n 0,\n 1,\n 1,\n 0,\n 0,\n 0,\n 1,\n 0,\n 0,\n 0,\n 0,\n 0,\n 1,\n 0,\n 0,\n 0,\n 1,\n 0,\n 0,\n 0,\n 0,\n 0,\n 0,\n 0,\n 0,\n 0,\n 0,\n 0,\n 0,\n 0,\n 0,\n 0,\n 0,\n 0,\n 0,\n 1,\n 0,\n 0,\n 0,\n 0,\n 0,\n 0,\n 0,\n 1,\n 0,\n 1,\n 0,\n 0,\n 0,\n 0,\n 0,\n 0,\n 0,\n 0,\n 0,\n 0,\n 0,\n 0,\n 0,\n 0,\n 1,\n 0,\n 0,\n 0,\n 0,\n 0,\n 0,\n 1,\n 0,\n 0,\n 0,\n 0,\n 1,\n 1,\n 0,\n 1,\n 0,\n 0,\n 1,\n 0,\n 0,\n 0,\n 0,\n 1,\n 0,\n 0,\n 0,\n 0,\n 0,\n 0,\n 0,\n 1,\n 0,\n 0,\n 0,\n 1,\n 0,\n 0,\n 0,\n 0,\n 0,\n 0,\n 1,\n 0,\n 0,\n 0,\n 0,\n 0,\n 0,\n 0,\n 0,\n 0,\n 0,\n 0,\n 0,\n 0,\n 0,\n 0,\n 1,\n 0,\n 0,\n 0,\n 0,\n 0,\n 0,\n 0,\n 0,\n 0,\n 0,\n 0,\n 0,\n 0,\n 0,\n 0,\n 0,\n 0,\n 0,\n 0,\n 0,\n 0,\n 0,\n 0,\n 0,\n 0,\n 0,\n 0,\n 0,\n 0,\n 0,\n 0,\n 1,\n 0,\n 0,\n 0,\n 0,\n 0,\n 1,\n 0,\n 0,\n 0,\n 0,\n 1,\n 0,\n 1,\n 0,\n 0,\n 0,\n 0,\n 0,\n 1,\n 0,\n 0,\n 0,\n 0,\n 0,\n 0,\n 0,\n 0,\n 0,\n 0,\n 0,\n 0,\n 0,\n 0,\n 0,\n 1,\n 0,\n 0,\n 0,\n 1,\n 0,\n 0,\n 0,\n 0,\n 0,\n 0,\n 0,\n 0,\n 0,\n 0,\n 0,\n 0,\n 0,\n 1,\n 1,\n 0,\n 0,\n 0,\n 1,\n 0,\n 0,\n 1,\n 0,\n 0,\n 0,\n 0,\n 0,\n 0,\n 1,\n 0,\n 0,\n 0,\n 0,\n 1,\n 1,\n 0,\n 0,\n 0,\n 0,\n 0,\n 1,\n 0,\n 0,\n 0,\n 0,\n 0,\n 0,\n 0,\n 0,\n ...]"
     },
     "execution_count": 25,
     "metadata": {},
     "output_type": "execute_result"
    }
   ],
   "source": [
    "#predict\n",
    "y_hat = model.predict(X_test) #value is a continuous variable between 0&1\n",
    "y_hat =[0 if val < 0.5 else 1 for val in y_hat]\n",
    "y_hat"
   ],
   "metadata": {
    "collapsed": false
   }
  },
  {
   "cell_type": "code",
   "execution_count": 26,
   "outputs": [
    {
     "data": {
      "text/plain": "0.7856635911994322"
     },
     "execution_count": 26,
     "metadata": {},
     "output_type": "execute_result"
    }
   ],
   "source": [
    "#evaluation\n",
    "from sklearn.metrics import accuracy_score\n",
    "accuracy_score(Y_test,y_hat)"
   ],
   "metadata": {
    "collapsed": false
   }
  },
  {
   "cell_type": "code",
   "execution_count": 27,
   "outputs": [
    {
     "name": "stdout",
     "output_type": "stream",
     "text": [
      "INFO:tensorflow:Assets written to: tfnode1\\assets\n"
     ]
    }
   ],
   "source": [
    "#saving the model\n",
    "model.save('tfnode1')"
   ],
   "metadata": {
    "collapsed": false
   }
  },
  {
   "cell_type": "code",
   "execution_count": 28,
   "outputs": [],
   "source": [
    "#del model\n",
    "del model\n",
    "#reload\n",
    "model= load_model('tfnode1')"
   ],
   "metadata": {
    "collapsed": false
   }
  },
  {
   "cell_type": "code",
   "execution_count": 29,
   "outputs": [
    {
     "name": "stdout",
     "output_type": "stream",
     "text": [
      "45/45 [==============================] - 1s 12ms/step\n"
     ]
    },
    {
     "data": {
      "text/plain": "[0,\n 0,\n 0,\n 0,\n 0,\n 0,\n 0,\n 0,\n 0,\n 0,\n 0,\n 0,\n 0,\n 0,\n 0,\n 0,\n 0,\n 0,\n 0,\n 1,\n 0,\n 0,\n 0,\n 1,\n 0,\n 0,\n 0,\n 0,\n 1,\n 0,\n 0,\n 1,\n 0,\n 1,\n 0,\n 0,\n 0,\n 0,\n 0,\n 1,\n 0,\n 1,\n 0,\n 0,\n 0,\n 0,\n 1,\n 0,\n 0,\n 0,\n 0,\n 0,\n 0,\n 0,\n 0,\n 0,\n 0,\n 0,\n 0,\n 0,\n 0,\n 1,\n 0,\n 0,\n 0,\n 0,\n 0,\n 0,\n 0,\n 0,\n 1,\n 1,\n 0,\n 0,\n 0,\n 0,\n 0,\n 0,\n 0,\n 0,\n 0,\n 0,\n 0,\n 0,\n 0,\n 1,\n 1,\n 0,\n 1,\n 0,\n 0,\n 1,\n 0,\n 0,\n 0,\n 0,\n 0,\n 0,\n 0,\n 1,\n 0,\n 0,\n 0,\n 1,\n 0,\n 1,\n 1,\n 0,\n 0,\n 1,\n 0,\n 0,\n 1,\n 0,\n 0,\n 0,\n 1,\n 0,\n 1,\n 0,\n 0,\n 0,\n 0,\n 0,\n 1,\n 0,\n 0,\n 0,\n 0,\n 0,\n 0,\n 0,\n 0,\n 0,\n 0,\n 0,\n 0,\n 0,\n 0,\n 1,\n 1,\n 0,\n 0,\n 0,\n 0,\n 1,\n 1,\n 0,\n 0,\n 0,\n 1,\n 1,\n 0,\n 0,\n 0,\n 0,\n 1,\n 0,\n 0,\n 1,\n 0,\n 0,\n 0,\n 0,\n 0,\n 0,\n 0,\n 0,\n 0,\n 0,\n 1,\n 0,\n 0,\n 1,\n 1,\n 1,\n 0,\n 0,\n 0,\n 0,\n 0,\n 0,\n 1,\n 0,\n 0,\n 0,\n 1,\n 1,\n 0,\n 0,\n 0,\n 0,\n 0,\n 0,\n 0,\n 1,\n 0,\n 0,\n 0,\n 0,\n 1,\n 0,\n 1,\n 0,\n 0,\n 0,\n 0,\n 0,\n 0,\n 0,\n 0,\n 0,\n 0,\n 0,\n 1,\n 0,\n 0,\n 1,\n 0,\n 0,\n 1,\n 0,\n 0,\n 1,\n 0,\n 0,\n 0,\n 0,\n 0,\n 0,\n 0,\n 0,\n 0,\n 0,\n 0,\n 1,\n 0,\n 0,\n 0,\n 0,\n 0,\n 0,\n 0,\n 0,\n 0,\n 1,\n 0,\n 0,\n 0,\n 0,\n 0,\n 0,\n 0,\n 0,\n 1,\n 1,\n 0,\n 0,\n 0,\n 0,\n 0,\n 0,\n 0,\n 0,\n 0,\n 0,\n 0,\n 0,\n 1,\n 0,\n 0,\n 1,\n 0,\n 0,\n 1,\n 0,\n 0,\n 0,\n 0,\n 0,\n 0,\n 0,\n 0,\n 0,\n 1,\n 0,\n 0,\n 0,\n 1,\n 0,\n 0,\n 0,\n 0,\n 0,\n 0,\n 0,\n 1,\n 0,\n 0,\n 0,\n 0,\n 0,\n 0,\n 0,\n 0,\n 0,\n 0,\n 1,\n 1,\n 1,\n 0,\n 0,\n 0,\n 0,\n 0,\n 0,\n 0,\n 0,\n 0,\n 0,\n 0,\n 0,\n 0,\n 0,\n 0,\n 0,\n 0,\n 0,\n 1,\n 0,\n 0,\n 0,\n 0,\n 1,\n 0,\n 0,\n 0,\n 0,\n 0,\n 0,\n 0,\n 0,\n 0,\n 0,\n 0,\n 0,\n 0,\n 1,\n 0,\n 0,\n 0,\n 0,\n 0,\n 0,\n 1,\n 0,\n 0,\n 0,\n 0,\n 0,\n 1,\n 0,\n 0,\n 1,\n 0,\n 0,\n 1,\n 0,\n 1,\n 1,\n 1,\n 0,\n 0,\n 0,\n 1,\n 0,\n 0,\n 0,\n 0,\n 0,\n 0,\n 0,\n 0,\n 0,\n 0,\n 0,\n 1,\n 0,\n 0,\n 0,\n 1,\n 0,\n 0,\n 0,\n 0,\n 1,\n 1,\n 1,\n 0,\n 0,\n 0,\n 0,\n 0,\n 0,\n 0,\n 0,\n 0,\n 0,\n 0,\n 0,\n 0,\n 0,\n 0,\n 1,\n 0,\n 0,\n 0,\n 0,\n 0,\n 0,\n 0,\n 0,\n 0,\n 0,\n 0,\n 1,\n 1,\n 0,\n 0,\n 0,\n 1,\n 0,\n 0,\n 0,\n 1,\n 0,\n 0,\n 0,\n 0,\n 0,\n 0,\n 0,\n 0,\n 0,\n 0,\n 0,\n 0,\n 0,\n 0,\n 0,\n 1,\n 0,\n 1,\n 0,\n 0,\n 0,\n 0,\n 0,\n 0,\n 0,\n 0,\n 0,\n 0,\n 0,\n 0,\n 0,\n 0,\n 1,\n 0,\n 0,\n 1,\n 0,\n 0,\n 0,\n 1,\n 0,\n 0,\n 0,\n 1,\n 0,\n 0,\n 0,\n 0,\n 0,\n 1,\n 0,\n 1,\n 0,\n 0,\n 0,\n 0,\n 0,\n 0,\n 0,\n 0,\n 0,\n 1,\n 0,\n 0,\n 0,\n 0,\n 0,\n 0,\n 0,\n 1,\n 0,\n 0,\n 0,\n 0,\n 0,\n 0,\n 0,\n 0,\n 0,\n 0,\n 0,\n 0,\n 0,\n 0,\n 1,\n 0,\n 0,\n 0,\n 0,\n 0,\n 0,\n 0,\n 1,\n 0,\n 0,\n 0,\n 0,\n 0,\n 0,\n 0,\n 0,\n 0,\n 0,\n 0,\n 0,\n 0,\n 0,\n 0,\n 1,\n 0,\n 0,\n 1,\n 1,\n 0,\n 0,\n 0,\n 1,\n 0,\n 1,\n 0,\n 1,\n 0,\n 0,\n 1,\n 0,\n 0,\n 0,\n 0,\n 0,\n 0,\n 0,\n 0,\n 0,\n 0,\n 1,\n 0,\n 0,\n 0,\n 0,\n 0,\n 0,\n 0,\n 1,\n 0,\n 0,\n 1,\n 0,\n 1,\n 0,\n 1,\n 0,\n 1,\n 0,\n 0,\n 0,\n 1,\n 0,\n 0,\n 0,\n 0,\n 1,\n 1,\n 0,\n 0,\n 0,\n 0,\n 0,\n 0,\n 0,\n 0,\n 0,\n 0,\n 0,\n 1,\n 0,\n 0,\n 0,\n 1,\n 0,\n 0,\n 1,\n 0,\n 1,\n 0,\n 0,\n 0,\n 0,\n 1,\n 0,\n 0,\n 1,\n 0,\n 0,\n 0,\n 0,\n 0,\n 0,\n 0,\n 0,\n 0,\n 0,\n 0,\n 0,\n 0,\n 0,\n 0,\n 0,\n 1,\n 0,\n 1,\n 0,\n 0,\n 0,\n 0,\n 0,\n 0,\n 0,\n 0,\n 0,\n 1,\n 0,\n 1,\n 0,\n 0,\n 1,\n 0,\n 1,\n 0,\n 0,\n 0,\n 1,\n 0,\n 0,\n 0,\n 0,\n 0,\n 0,\n 0,\n 0,\n 0,\n 0,\n 0,\n 0,\n 0,\n 0,\n 0,\n 0,\n 0,\n 0,\n 0,\n 1,\n 0,\n 1,\n 1,\n 0,\n 0,\n 0,\n 0,\n 0,\n 0,\n 0,\n 0,\n 0,\n 1,\n 0,\n 0,\n 0,\n 0,\n 0,\n 0,\n 0,\n 1,\n 0,\n 0,\n 0,\n 1,\n 0,\n 0,\n 0,\n 0,\n 1,\n 0,\n 0,\n 1,\n 0,\n 1,\n 0,\n 0,\n 0,\n 0,\n 0,\n 0,\n 0,\n 0,\n 0,\n 0,\n 0,\n 0,\n 0,\n 0,\n 0,\n 1,\n 0,\n 0,\n 1,\n 0,\n 1,\n 0,\n 0,\n 0,\n 1,\n 1,\n 0,\n 0,\n 0,\n 1,\n 0,\n 0,\n 0,\n 1,\n 0,\n 0,\n 0,\n 1,\n 0,\n 0,\n 0,\n 1,\n 1,\n 0,\n 0,\n 0,\n 1,\n 0,\n 0,\n 0,\n 0,\n 0,\n 1,\n 0,\n 0,\n 0,\n 1,\n 0,\n 0,\n 0,\n 0,\n 0,\n 0,\n 0,\n 0,\n 0,\n 0,\n 0,\n 0,\n 0,\n 0,\n 0,\n 0,\n 0,\n 0,\n 1,\n 0,\n 0,\n 0,\n 0,\n 0,\n 0,\n 0,\n 1,\n 0,\n 1,\n 0,\n 0,\n 0,\n 0,\n 0,\n 0,\n 0,\n 0,\n 0,\n 0,\n 0,\n 0,\n 0,\n 0,\n 1,\n 0,\n 0,\n 0,\n 0,\n 0,\n 0,\n 1,\n 0,\n 0,\n 0,\n 0,\n 1,\n 1,\n 0,\n 1,\n 0,\n 0,\n 1,\n 0,\n 0,\n 0,\n 0,\n 1,\n 0,\n 0,\n 0,\n 0,\n 0,\n 0,\n 0,\n 1,\n 0,\n 0,\n 0,\n 1,\n 0,\n 0,\n 0,\n 0,\n 0,\n 0,\n 1,\n 0,\n 0,\n 0,\n 0,\n 0,\n 0,\n 0,\n 0,\n 0,\n 0,\n 0,\n 0,\n 0,\n 0,\n 0,\n 1,\n 0,\n 0,\n 0,\n 0,\n 0,\n 0,\n 0,\n 0,\n 0,\n 0,\n 0,\n 0,\n 0,\n 0,\n 0,\n 0,\n 0,\n 0,\n 0,\n 0,\n 0,\n 0,\n 0,\n 0,\n 0,\n 0,\n 0,\n 0,\n 0,\n 0,\n 0,\n 1,\n 0,\n 0,\n 0,\n 0,\n 0,\n 1,\n 0,\n 0,\n 0,\n 0,\n 1,\n 0,\n 1,\n 0,\n 0,\n 0,\n 0,\n 0,\n 1,\n 0,\n 0,\n 0,\n 0,\n 0,\n 0,\n 0,\n 0,\n 0,\n 0,\n 0,\n 0,\n 0,\n 0,\n 0,\n 1,\n 0,\n 0,\n 0,\n 1,\n 0,\n 0,\n 0,\n 0,\n 0,\n 0,\n 0,\n 0,\n 0,\n 0,\n 0,\n 0,\n 0,\n 1,\n 1,\n 0,\n 0,\n 0,\n 1,\n 0,\n 0,\n 1,\n 0,\n 0,\n 0,\n 0,\n 0,\n 0,\n 1,\n 0,\n 0,\n 0,\n 0,\n 1,\n 1,\n 0,\n 0,\n 0,\n 0,\n 0,\n 1,\n 0,\n 0,\n 0,\n 0,\n 0,\n 0,\n 0,\n 0,\n ...]"
     },
     "execution_count": 29,
     "metadata": {},
     "output_type": "execute_result"
    }
   ],
   "source": [
    "y_hat = model.predict(X_test)  #value is a continuous variable between 0&1\n",
    "y_hat = [0 if val < 0.5 else 1 for val in y_hat]\n",
    "y_hat\n"
   ],
   "metadata": {
    "collapsed": false
   }
  },
  {
   "cell_type": "code",
   "execution_count": null,
   "outputs": [],
   "source": [],
   "metadata": {
    "collapsed": false
   }
  }
 ],
 "metadata": {
  "kernelspec": {
   "display_name": "Python 3",
   "language": "python",
   "name": "python3"
  },
  "language_info": {
   "codemirror_mode": {
    "name": "ipython",
    "version": 2
   },
   "file_extension": ".py",
   "mimetype": "text/x-python",
   "name": "python",
   "nbconvert_exporter": "python",
   "pygments_lexer": "ipython2",
   "version": "2.7.6"
  }
 },
 "nbformat": 4,
 "nbformat_minor": 0
}
